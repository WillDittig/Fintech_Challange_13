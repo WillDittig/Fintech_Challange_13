{
 "cells": [
  {
   "cell_type": "markdown",
   "metadata": {},
   "source": [
    "# Venture Funding with Deep Learning\n",
    "\n",
    "You work as a risk management associate at Alphabet Soup, a venture capital firm. Alphabet Soup’s business team receives many funding applications from startups every day. This team has asked you to help them create a model that predicts whether applicants will be successful if funded by Alphabet Soup.\n",
    "\n",
    "The business team has given you a CSV containing more than 34,000 organizations that have received funding from Alphabet Soup over the years. With your knowledge of machine learning and neural networks, you decide to use the features in the provided dataset to create a binary classifier model that will predict whether an applicant will become a successful business. The CSV file contains a variety of information about these businesses, including whether or not they ultimately became successful.\n",
    "\n",
    "## Instructions:\n",
    "\n",
    "The steps for this challenge are broken out into the following sections:\n",
    "\n",
    "* Prepare the data for use on a neural network model.\n",
    "\n",
    "* Compile and evaluate a binary classification model using a neural network.\n",
    "\n",
    "* Optimize the neural network model.\n",
    "\n",
    "### Prepare the Data for Use on a Neural Network Model \n",
    "\n",
    "Using your knowledge of Pandas and scikit-learn’s `StandardScaler()`, preprocess the dataset so that you can use it to compile and evaluate the neural network model later.\n",
    "\n",
    "Open the starter code file, and complete the following data preparation steps:\n",
    "\n",
    "1. Read the `applicants_data.csv` file into a Pandas DataFrame. Review the DataFrame, looking for categorical variables that will need to be encoded, as well as columns that could eventually define your features and target variables.   \n",
    "\n",
    "2. Drop the “EIN” (Employer Identification Number) and “NAME” columns from the DataFrame, because they are not relevant to the binary classification model.\n",
    " \n",
    "3. Encode the dataset’s categorical variables using `OneHotEncoder`, and then place the encoded variables into a new DataFrame.\n",
    "\n",
    "4. Add the original DataFrame’s numerical variables to the DataFrame containing the encoded variables.\n",
    "\n",
    "> **Note** To complete this step, you will employ the Pandas `concat()` function that was introduced earlier in this course. \n",
    "\n",
    "5. Using the preprocessed data, create the features (`X`) and target (`y`) datasets. The target dataset should be defined by the preprocessed DataFrame column “IS_SUCCESSFUL”. The remaining columns should define the features dataset. \n",
    "\n",
    "6. Split the features and target sets into training and testing datasets.\n",
    "\n",
    "7. Use scikit-learn's `StandardScaler` to scale the features data.\n",
    "\n",
    "### Compile and Evaluate a Binary Classification Model Using a Neural Network\n",
    "\n",
    "Use your knowledge of TensorFlow to design a binary classification deep neural network model. This model should use the dataset’s features to predict whether an Alphabet Soup&ndash;funded startup will be successful based on the features in the dataset. Consider the number of inputs before determining the number of layers that your model will contain or the number of neurons on each layer. Then, compile and fit your model. Finally, evaluate your binary classification model to calculate the model’s loss and accuracy. \n",
    " \n",
    "To do so, complete the following steps:\n",
    "\n",
    "1. Create a deep neural network by assigning the number of input features, the number of layers, and the number of neurons on each layer using Tensorflow’s Keras.\n",
    "\n",
    "> **Hint** You can start with a two-layer deep neural network model that uses the `relu` activation function for both layers.\n",
    "\n",
    "2. Compile and fit the model using the `binary_crossentropy` loss function, the `adam` optimizer, and the `accuracy` evaluation metric.\n",
    "\n",
    "> **Hint** When fitting the model, start with a small number of epochs, such as 20, 50, or 100.\n",
    "\n",
    "3. Evaluate the model using the test data to determine the model’s loss and accuracy.\n",
    "\n",
    "4. Save and export your model to an HDF5 file, and name the file `AlphabetSoup.h5`. \n",
    "\n",
    "### Optimize the Neural Network Model\n",
    "\n",
    "Using your knowledge of TensorFlow and Keras, optimize your model to improve the model's accuracy. Even if you do not successfully achieve a better accuracy, you'll need to demonstrate at least two attempts to optimize the model. You can include these attempts in your existing notebook. Or, you can make copies of the starter notebook in the same folder, rename them, and code each model optimization in a new notebook. \n",
    "\n",
    "> **Note** You will not lose points if your model does not achieve a high accuracy, as long as you make at least two attempts to optimize the model.\n",
    "\n",
    "To do so, complete the following steps:\n",
    "\n",
    "1. Define at least three new deep neural network models (the original plus 2 optimization attempts). With each, try to improve on your first model’s predictive accuracy.\n",
    "\n",
    "> **Rewind** Recall that perfect accuracy has a value of 1, so accuracy improves as its value moves closer to 1. To optimize your model for a predictive accuracy as close to 1 as possible, you can use any or all of the following techniques:\n",
    ">\n",
    "> * Adjust the input data by dropping different features columns to ensure that no variables or outliers confuse the model.\n",
    ">\n",
    "> * Add more neurons (nodes) to a hidden layer.\n",
    ">\n",
    "> * Add more hidden layers.\n",
    ">\n",
    "> * Use different activation functions for the hidden layers.\n",
    ">\n",
    "> * Add to or reduce the number of epochs in the training regimen.\n",
    "\n",
    "2. After finishing your models, display the accuracy scores achieved by each model, and compare the results.\n",
    "\n",
    "3. Save each of your models as an HDF5 file.\n"
   ]
  },
  {
   "cell_type": "code",
   "execution_count": 1,
   "metadata": {},
   "outputs": [],
   "source": [
    "# Imports\n",
    "import pandas as pd\n",
    "from pathlib import Path\n",
    "import tensorflow as tf\n",
    "from tensorflow.keras.layers import Dense\n",
    "from tensorflow.keras.models import Sequential\n",
    "from sklearn.model_selection import train_test_split\n",
    "from sklearn.preprocessing import StandardScaler,OneHotEncoder"
   ]
  },
  {
   "cell_type": "markdown",
   "metadata": {},
   "source": [
    "---\n",
    "\n",
    "## Prepare the data to be used on a neural network model"
   ]
  },
  {
   "cell_type": "markdown",
   "metadata": {},
   "source": [
    "### Step 1: Read the `applicants_data.csv` file into a Pandas DataFrame. Review the DataFrame, looking for categorical variables that will need to be encoded, as well as columns that could eventually define your features and target variables.  \n"
   ]
  },
  {
   "cell_type": "code",
   "execution_count": 32,
   "metadata": {},
   "outputs": [
    {
     "data": {
      "text/html": [
       "<div>\n",
       "<style scoped>\n",
       "    .dataframe tbody tr th:only-of-type {\n",
       "        vertical-align: middle;\n",
       "    }\n",
       "\n",
       "    .dataframe tbody tr th {\n",
       "        vertical-align: top;\n",
       "    }\n",
       "\n",
       "    .dataframe thead th {\n",
       "        text-align: right;\n",
       "    }\n",
       "</style>\n",
       "<table border=\"1\" class=\"dataframe\">\n",
       "  <thead>\n",
       "    <tr style=\"text-align: right;\">\n",
       "      <th></th>\n",
       "      <th>EIN</th>\n",
       "      <th>NAME</th>\n",
       "      <th>APPLICATION_TYPE</th>\n",
       "      <th>AFFILIATION</th>\n",
       "      <th>CLASSIFICATION</th>\n",
       "      <th>USE_CASE</th>\n",
       "      <th>ORGANIZATION</th>\n",
       "      <th>STATUS</th>\n",
       "      <th>INCOME_AMT</th>\n",
       "      <th>SPECIAL_CONSIDERATIONS</th>\n",
       "      <th>ASK_AMT</th>\n",
       "      <th>IS_SUCCESSFUL</th>\n",
       "    </tr>\n",
       "  </thead>\n",
       "  <tbody>\n",
       "    <tr>\n",
       "      <th>0</th>\n",
       "      <td>10520599</td>\n",
       "      <td>BLUE KNIGHTS MOTORCYCLE CLUB</td>\n",
       "      <td>T10</td>\n",
       "      <td>Independent</td>\n",
       "      <td>C1000</td>\n",
       "      <td>ProductDev</td>\n",
       "      <td>Association</td>\n",
       "      <td>1</td>\n",
       "      <td>0</td>\n",
       "      <td>N</td>\n",
       "      <td>5000</td>\n",
       "      <td>1</td>\n",
       "    </tr>\n",
       "    <tr>\n",
       "      <th>1</th>\n",
       "      <td>10531628</td>\n",
       "      <td>AMERICAN CHESAPEAKE CLUB CHARITABLE TR</td>\n",
       "      <td>T3</td>\n",
       "      <td>Independent</td>\n",
       "      <td>C2000</td>\n",
       "      <td>Preservation</td>\n",
       "      <td>Co-operative</td>\n",
       "      <td>1</td>\n",
       "      <td>1-9999</td>\n",
       "      <td>N</td>\n",
       "      <td>108590</td>\n",
       "      <td>1</td>\n",
       "    </tr>\n",
       "    <tr>\n",
       "      <th>2</th>\n",
       "      <td>10547893</td>\n",
       "      <td>ST CLOUD PROFESSIONAL FIREFIGHTERS</td>\n",
       "      <td>T5</td>\n",
       "      <td>CompanySponsored</td>\n",
       "      <td>C3000</td>\n",
       "      <td>ProductDev</td>\n",
       "      <td>Association</td>\n",
       "      <td>1</td>\n",
       "      <td>0</td>\n",
       "      <td>N</td>\n",
       "      <td>5000</td>\n",
       "      <td>0</td>\n",
       "    </tr>\n",
       "    <tr>\n",
       "      <th>3</th>\n",
       "      <td>10553066</td>\n",
       "      <td>SOUTHSIDE ATHLETIC ASSOCIATION</td>\n",
       "      <td>T3</td>\n",
       "      <td>CompanySponsored</td>\n",
       "      <td>C2000</td>\n",
       "      <td>Preservation</td>\n",
       "      <td>Trust</td>\n",
       "      <td>1</td>\n",
       "      <td>10000-24999</td>\n",
       "      <td>N</td>\n",
       "      <td>6692</td>\n",
       "      <td>1</td>\n",
       "    </tr>\n",
       "    <tr>\n",
       "      <th>4</th>\n",
       "      <td>10556103</td>\n",
       "      <td>GENETIC RESEARCH INSTITUTE OF THE DESERT</td>\n",
       "      <td>T3</td>\n",
       "      <td>Independent</td>\n",
       "      <td>C1000</td>\n",
       "      <td>Heathcare</td>\n",
       "      <td>Trust</td>\n",
       "      <td>1</td>\n",
       "      <td>100000-499999</td>\n",
       "      <td>N</td>\n",
       "      <td>142590</td>\n",
       "      <td>1</td>\n",
       "    </tr>\n",
       "  </tbody>\n",
       "</table>\n",
       "</div>"
      ],
      "text/plain": [
       "        EIN                                      NAME APPLICATION_TYPE  \\\n",
       "0  10520599              BLUE KNIGHTS MOTORCYCLE CLUB              T10   \n",
       "1  10531628    AMERICAN CHESAPEAKE CLUB CHARITABLE TR               T3   \n",
       "2  10547893        ST CLOUD PROFESSIONAL FIREFIGHTERS               T5   \n",
       "3  10553066            SOUTHSIDE ATHLETIC ASSOCIATION               T3   \n",
       "4  10556103  GENETIC RESEARCH INSTITUTE OF THE DESERT               T3   \n",
       "\n",
       "        AFFILIATION CLASSIFICATION      USE_CASE  ORGANIZATION  STATUS  \\\n",
       "0       Independent          C1000    ProductDev   Association       1   \n",
       "1       Independent          C2000  Preservation  Co-operative       1   \n",
       "2  CompanySponsored          C3000    ProductDev   Association       1   \n",
       "3  CompanySponsored          C2000  Preservation         Trust       1   \n",
       "4       Independent          C1000     Heathcare         Trust       1   \n",
       "\n",
       "      INCOME_AMT SPECIAL_CONSIDERATIONS  ASK_AMT  IS_SUCCESSFUL  \n",
       "0              0                      N     5000              1  \n",
       "1         1-9999                      N   108590              1  \n",
       "2              0                      N     5000              0  \n",
       "3    10000-24999                      N     6692              1  \n",
       "4  100000-499999                      N   142590              1  "
      ]
     },
     "execution_count": 32,
     "metadata": {},
     "output_type": "execute_result"
    }
   ],
   "source": [
    "# Read the applicants_data.csv file from the Resources folder into a Pandas DataFrame\n",
    "Data = Path(\"../Starter_Code/Resources/applicants_data.csv\") \n",
    "applicant_data_df = pd.read_csv(Data)\n",
    "\n",
    "\n",
    "# Review the DataFrame\n",
    "# YOUR CODE HERE\n",
    "applicant_data_df.head()"
   ]
  },
  {
   "cell_type": "code",
   "execution_count": null,
   "metadata": {},
   "outputs": [],
   "source": []
  },
  {
   "cell_type": "code",
   "execution_count": 33,
   "metadata": {},
   "outputs": [
    {
     "data": {
      "text/plain": [
       "EIN                        int64\n",
       "NAME                      object\n",
       "APPLICATION_TYPE          object\n",
       "AFFILIATION               object\n",
       "CLASSIFICATION            object\n",
       "USE_CASE                  object\n",
       "ORGANIZATION              object\n",
       "STATUS                     int64\n",
       "INCOME_AMT                object\n",
       "SPECIAL_CONSIDERATIONS    object\n",
       "ASK_AMT                    int64\n",
       "IS_SUCCESSFUL              int64\n",
       "dtype: object"
      ]
     },
     "execution_count": 33,
     "metadata": {},
     "output_type": "execute_result"
    }
   ],
   "source": [
    "# Review the data types associated with the columns\n",
    "# YOUR CODE HERE\n",
    "applicant_data_df.dtypes"
   ]
  },
  {
   "cell_type": "markdown",
   "metadata": {},
   "source": [
    "### Step 2: Drop the “EIN” (Employer Identification Number) and “NAME” columns from the DataFrame, because they are not relevant to the binary classification model."
   ]
  },
  {
   "cell_type": "code",
   "execution_count": 41,
   "metadata": {},
   "outputs": [
    {
     "data": {
      "text/html": [
       "<div>\n",
       "<style scoped>\n",
       "    .dataframe tbody tr th:only-of-type {\n",
       "        vertical-align: middle;\n",
       "    }\n",
       "\n",
       "    .dataframe tbody tr th {\n",
       "        vertical-align: top;\n",
       "    }\n",
       "\n",
       "    .dataframe thead th {\n",
       "        text-align: right;\n",
       "    }\n",
       "</style>\n",
       "<table border=\"1\" class=\"dataframe\">\n",
       "  <thead>\n",
       "    <tr style=\"text-align: right;\">\n",
       "      <th></th>\n",
       "      <th>APPLICATION_TYPE</th>\n",
       "      <th>AFFILIATION</th>\n",
       "      <th>CLASSIFICATION</th>\n",
       "      <th>USE_CASE</th>\n",
       "      <th>ORGANIZATION</th>\n",
       "      <th>STATUS</th>\n",
       "      <th>INCOME_AMT</th>\n",
       "      <th>SPECIAL_CONSIDERATIONS</th>\n",
       "      <th>ASK_AMT</th>\n",
       "      <th>IS_SUCCESSFUL</th>\n",
       "    </tr>\n",
       "  </thead>\n",
       "  <tbody>\n",
       "    <tr>\n",
       "      <th>0</th>\n",
       "      <td>T10</td>\n",
       "      <td>Independent</td>\n",
       "      <td>C1000</td>\n",
       "      <td>ProductDev</td>\n",
       "      <td>Association</td>\n",
       "      <td>1</td>\n",
       "      <td>0</td>\n",
       "      <td>N</td>\n",
       "      <td>5000</td>\n",
       "      <td>1</td>\n",
       "    </tr>\n",
       "    <tr>\n",
       "      <th>1</th>\n",
       "      <td>T3</td>\n",
       "      <td>Independent</td>\n",
       "      <td>C2000</td>\n",
       "      <td>Preservation</td>\n",
       "      <td>Co-operative</td>\n",
       "      <td>1</td>\n",
       "      <td>1-9999</td>\n",
       "      <td>N</td>\n",
       "      <td>108590</td>\n",
       "      <td>1</td>\n",
       "    </tr>\n",
       "    <tr>\n",
       "      <th>2</th>\n",
       "      <td>T5</td>\n",
       "      <td>CompanySponsored</td>\n",
       "      <td>C3000</td>\n",
       "      <td>ProductDev</td>\n",
       "      <td>Association</td>\n",
       "      <td>1</td>\n",
       "      <td>0</td>\n",
       "      <td>N</td>\n",
       "      <td>5000</td>\n",
       "      <td>0</td>\n",
       "    </tr>\n",
       "    <tr>\n",
       "      <th>3</th>\n",
       "      <td>T3</td>\n",
       "      <td>CompanySponsored</td>\n",
       "      <td>C2000</td>\n",
       "      <td>Preservation</td>\n",
       "      <td>Trust</td>\n",
       "      <td>1</td>\n",
       "      <td>10000-24999</td>\n",
       "      <td>N</td>\n",
       "      <td>6692</td>\n",
       "      <td>1</td>\n",
       "    </tr>\n",
       "    <tr>\n",
       "      <th>4</th>\n",
       "      <td>T3</td>\n",
       "      <td>Independent</td>\n",
       "      <td>C1000</td>\n",
       "      <td>Heathcare</td>\n",
       "      <td>Trust</td>\n",
       "      <td>1</td>\n",
       "      <td>100000-499999</td>\n",
       "      <td>N</td>\n",
       "      <td>142590</td>\n",
       "      <td>1</td>\n",
       "    </tr>\n",
       "    <tr>\n",
       "      <th>...</th>\n",
       "      <td>...</td>\n",
       "      <td>...</td>\n",
       "      <td>...</td>\n",
       "      <td>...</td>\n",
       "      <td>...</td>\n",
       "      <td>...</td>\n",
       "      <td>...</td>\n",
       "      <td>...</td>\n",
       "      <td>...</td>\n",
       "      <td>...</td>\n",
       "    </tr>\n",
       "    <tr>\n",
       "      <th>34294</th>\n",
       "      <td>T4</td>\n",
       "      <td>Independent</td>\n",
       "      <td>C1000</td>\n",
       "      <td>ProductDev</td>\n",
       "      <td>Association</td>\n",
       "      <td>1</td>\n",
       "      <td>0</td>\n",
       "      <td>N</td>\n",
       "      <td>5000</td>\n",
       "      <td>0</td>\n",
       "    </tr>\n",
       "    <tr>\n",
       "      <th>34295</th>\n",
       "      <td>T4</td>\n",
       "      <td>CompanySponsored</td>\n",
       "      <td>C3000</td>\n",
       "      <td>ProductDev</td>\n",
       "      <td>Association</td>\n",
       "      <td>1</td>\n",
       "      <td>0</td>\n",
       "      <td>N</td>\n",
       "      <td>5000</td>\n",
       "      <td>0</td>\n",
       "    </tr>\n",
       "    <tr>\n",
       "      <th>34296</th>\n",
       "      <td>T3</td>\n",
       "      <td>CompanySponsored</td>\n",
       "      <td>C2000</td>\n",
       "      <td>Preservation</td>\n",
       "      <td>Association</td>\n",
       "      <td>1</td>\n",
       "      <td>0</td>\n",
       "      <td>N</td>\n",
       "      <td>5000</td>\n",
       "      <td>0</td>\n",
       "    </tr>\n",
       "    <tr>\n",
       "      <th>34297</th>\n",
       "      <td>T5</td>\n",
       "      <td>Independent</td>\n",
       "      <td>C3000</td>\n",
       "      <td>ProductDev</td>\n",
       "      <td>Association</td>\n",
       "      <td>1</td>\n",
       "      <td>0</td>\n",
       "      <td>N</td>\n",
       "      <td>5000</td>\n",
       "      <td>1</td>\n",
       "    </tr>\n",
       "    <tr>\n",
       "      <th>34298</th>\n",
       "      <td>T3</td>\n",
       "      <td>Independent</td>\n",
       "      <td>C1000</td>\n",
       "      <td>Preservation</td>\n",
       "      <td>Co-operative</td>\n",
       "      <td>1</td>\n",
       "      <td>1M-5M</td>\n",
       "      <td>N</td>\n",
       "      <td>36500179</td>\n",
       "      <td>0</td>\n",
       "    </tr>\n",
       "  </tbody>\n",
       "</table>\n",
       "<p>34299 rows × 10 columns</p>\n",
       "</div>"
      ],
      "text/plain": [
       "      APPLICATION_TYPE       AFFILIATION CLASSIFICATION      USE_CASE  \\\n",
       "0                  T10       Independent          C1000    ProductDev   \n",
       "1                   T3       Independent          C2000  Preservation   \n",
       "2                   T5  CompanySponsored          C3000    ProductDev   \n",
       "3                   T3  CompanySponsored          C2000  Preservation   \n",
       "4                   T3       Independent          C1000     Heathcare   \n",
       "...                ...               ...            ...           ...   \n",
       "34294               T4       Independent          C1000    ProductDev   \n",
       "34295               T4  CompanySponsored          C3000    ProductDev   \n",
       "34296               T3  CompanySponsored          C2000  Preservation   \n",
       "34297               T5       Independent          C3000    ProductDev   \n",
       "34298               T3       Independent          C1000  Preservation   \n",
       "\n",
       "       ORGANIZATION  STATUS     INCOME_AMT SPECIAL_CONSIDERATIONS   ASK_AMT  \\\n",
       "0       Association       1              0                      N      5000   \n",
       "1      Co-operative       1         1-9999                      N    108590   \n",
       "2       Association       1              0                      N      5000   \n",
       "3             Trust       1    10000-24999                      N      6692   \n",
       "4             Trust       1  100000-499999                      N    142590   \n",
       "...             ...     ...            ...                    ...       ...   \n",
       "34294   Association       1              0                      N      5000   \n",
       "34295   Association       1              0                      N      5000   \n",
       "34296   Association       1              0                      N      5000   \n",
       "34297   Association       1              0                      N      5000   \n",
       "34298  Co-operative       1          1M-5M                      N  36500179   \n",
       "\n",
       "       IS_SUCCESSFUL  \n",
       "0                  1  \n",
       "1                  1  \n",
       "2                  0  \n",
       "3                  1  \n",
       "4                  1  \n",
       "...              ...  \n",
       "34294              0  \n",
       "34295              0  \n",
       "34296              0  \n",
       "34297              1  \n",
       "34298              0  \n",
       "\n",
       "[34299 rows x 10 columns]"
      ]
     },
     "execution_count": 41,
     "metadata": {},
     "output_type": "execute_result"
    }
   ],
   "source": [
    "applicant_data_df = applicant_data_df.drop(columns = {\"NAME\", \"EIN\"})\n",
    "applicant_data_df"
   ]
  },
  {
   "cell_type": "markdown",
   "metadata": {},
   "source": [
    "### Step 3: Encode the dataset’s categorical variables using `OneHotEncoder`, and then place the encoded variables into a new DataFrame."
   ]
  },
  {
   "cell_type": "code",
   "execution_count": 42,
   "metadata": {},
   "outputs": [
    {
     "data": {
      "text/plain": [
       "['APPLICATION_TYPE',\n",
       " 'AFFILIATION',\n",
       " 'CLASSIFICATION',\n",
       " 'USE_CASE',\n",
       " 'ORGANIZATION',\n",
       " 'STATUS',\n",
       " 'INCOME_AMT',\n",
       " 'SPECIAL_CONSIDERATIONS',\n",
       " 'ASK_AMT',\n",
       " 'IS_SUCCESSFUL']"
      ]
     },
     "execution_count": 42,
     "metadata": {},
     "output_type": "execute_result"
    }
   ],
   "source": [
    "# Create a list of categorical variables \n",
    "categorical_variables = [\"APPLICATION_TYPE\", \"AFFILIATION\", \"CLASSIFICATION\", \"USE_CASE\", \"ORGANIZATION\", \"STATUS\", \"INCOME_AMT\", \"SPECIAL_CONSIDERATIONS\", \"ASK_AMT\", \"IS_SUCCESSFUL\"]\n",
    "\n",
    "# Display the categorical variables list\n",
    "# YOUR CODE HERE\n",
    "categorical_variables"
   ]
  },
  {
   "cell_type": "code",
   "execution_count": 44,
   "metadata": {},
   "outputs": [],
   "source": [
    "# Create a OneHotEncoder instance\n",
    "enc = OneHotEncoder (sparse=False)\n"
   ]
  },
  {
   "cell_type": "code",
   "execution_count": 46,
   "metadata": {},
   "outputs": [],
   "source": [
    "# Encode the categorcal variables using OneHotEncoder\n",
    "encoded_data = enc.fit_transform([categorical_variables])\n"
   ]
  },
  {
   "cell_type": "code",
   "execution_count": 47,
   "metadata": {},
   "outputs": [
    {
     "name": "stderr",
     "output_type": "stream",
     "text": [
      "C:\\Users\\wizzy\\anaconda3\\envs\\dev\\lib\\site-packages\\sklearn\\utils\\deprecation.py:87: FutureWarning: Function get_feature_names is deprecated; get_feature_names is deprecated in 1.0 and will be removed in 1.2. Please use get_feature_names_out instead.\n",
      "  warnings.warn(msg, category=FutureWarning)\n"
     ]
    },
    {
     "data": {
      "text/html": [
       "<div>\n",
       "<style scoped>\n",
       "    .dataframe tbody tr th:only-of-type {\n",
       "        vertical-align: middle;\n",
       "    }\n",
       "\n",
       "    .dataframe tbody tr th {\n",
       "        vertical-align: top;\n",
       "    }\n",
       "\n",
       "    .dataframe thead th {\n",
       "        text-align: right;\n",
       "    }\n",
       "</style>\n",
       "<table border=\"1\" class=\"dataframe\">\n",
       "  <thead>\n",
       "    <tr style=\"text-align: right;\">\n",
       "      <th></th>\n",
       "      <th>APPLICATION_TYPE_APPLICATION_TYPE</th>\n",
       "      <th>AFFILIATION_AFFILIATION</th>\n",
       "      <th>CLASSIFICATION_CLASSIFICATION</th>\n",
       "      <th>USE_CASE_USE_CASE</th>\n",
       "      <th>ORGANIZATION_ORGANIZATION</th>\n",
       "      <th>STATUS_STATUS</th>\n",
       "      <th>INCOME_AMT_INCOME_AMT</th>\n",
       "      <th>SPECIAL_CONSIDERATIONS_SPECIAL_CONSIDERATIONS</th>\n",
       "      <th>ASK_AMT_ASK_AMT</th>\n",
       "      <th>IS_SUCCESSFUL_IS_SUCCESSFUL</th>\n",
       "    </tr>\n",
       "  </thead>\n",
       "  <tbody>\n",
       "    <tr>\n",
       "      <th>0</th>\n",
       "      <td>1.0</td>\n",
       "      <td>1.0</td>\n",
       "      <td>1.0</td>\n",
       "      <td>1.0</td>\n",
       "      <td>1.0</td>\n",
       "      <td>1.0</td>\n",
       "      <td>1.0</td>\n",
       "      <td>1.0</td>\n",
       "      <td>1.0</td>\n",
       "      <td>1.0</td>\n",
       "    </tr>\n",
       "  </tbody>\n",
       "</table>\n",
       "</div>"
      ],
      "text/plain": [
       "   APPLICATION_TYPE_APPLICATION_TYPE  AFFILIATION_AFFILIATION  \\\n",
       "0                                1.0                      1.0   \n",
       "\n",
       "   CLASSIFICATION_CLASSIFICATION  USE_CASE_USE_CASE  \\\n",
       "0                            1.0                1.0   \n",
       "\n",
       "   ORGANIZATION_ORGANIZATION  STATUS_STATUS  INCOME_AMT_INCOME_AMT  \\\n",
       "0                        1.0            1.0                    1.0   \n",
       "\n",
       "   SPECIAL_CONSIDERATIONS_SPECIAL_CONSIDERATIONS  ASK_AMT_ASK_AMT  \\\n",
       "0                                            1.0              1.0   \n",
       "\n",
       "   IS_SUCCESSFUL_IS_SUCCESSFUL  \n",
       "0                          1.0  "
      ]
     },
     "execution_count": 47,
     "metadata": {},
     "output_type": "execute_result"
    }
   ],
   "source": [
    "# Create a DataFrame with the encoded variables\n",
    "encoded_df = pd.DataFrame(\n",
    "    encoded_data,\n",
    "    columns = enc.get_feature_names(categorical_variables)) \n",
    "\n",
    "# Review the DataFrame\n",
    "# YOUR CODE HERE\n",
    "\n",
    "\n",
    "\n",
    "# Display sample data\n",
    "encoded_df.head()"
   ]
  },
  {
   "cell_type": "markdown",
   "metadata": {},
   "source": [
    "### Step 4: Add the original DataFrame’s numerical variables to the DataFrame containing the encoded variables.\n",
    "\n",
    "> **Note** To complete this step, you will employ the Pandas `concat()` function that was introduced earlier in this course. "
   ]
  },
  {
   "cell_type": "code",
   "execution_count": 67,
   "metadata": {},
   "outputs": [
    {
     "data": {
      "text/html": [
       "<div>\n",
       "<style scoped>\n",
       "    .dataframe tbody tr th:only-of-type {\n",
       "        vertical-align: middle;\n",
       "    }\n",
       "\n",
       "    .dataframe tbody tr th {\n",
       "        vertical-align: top;\n",
       "    }\n",
       "\n",
       "    .dataframe thead th {\n",
       "        text-align: right;\n",
       "    }\n",
       "</style>\n",
       "<table border=\"1\" class=\"dataframe\">\n",
       "  <thead>\n",
       "    <tr style=\"text-align: right;\">\n",
       "      <th></th>\n",
       "      <th>APPLICATION_TYPE_APPLICATION_TYPE</th>\n",
       "      <th>AFFILIATION_AFFILIATION</th>\n",
       "      <th>CLASSIFICATION_CLASSIFICATION</th>\n",
       "      <th>USE_CASE_USE_CASE</th>\n",
       "      <th>ORGANIZATION_ORGANIZATION</th>\n",
       "      <th>STATUS_STATUS</th>\n",
       "      <th>INCOME_AMT_INCOME_AMT</th>\n",
       "      <th>SPECIAL_CONSIDERATIONS_SPECIAL_CONSIDERATIONS</th>\n",
       "      <th>ASK_AMT_ASK_AMT</th>\n",
       "      <th>IS_SUCCESSFUL_IS_SUCCESSFUL</th>\n",
       "      <th>STATUS</th>\n",
       "      <th>ASK_AMT</th>\n",
       "      <th>IS_SUCCESSFUL</th>\n",
       "    </tr>\n",
       "  </thead>\n",
       "  <tbody>\n",
       "    <tr>\n",
       "      <th>0</th>\n",
       "      <td>1.0</td>\n",
       "      <td>1.0</td>\n",
       "      <td>1.0</td>\n",
       "      <td>1.0</td>\n",
       "      <td>1.0</td>\n",
       "      <td>1.0</td>\n",
       "      <td>1.0</td>\n",
       "      <td>1.0</td>\n",
       "      <td>1.0</td>\n",
       "      <td>1.0</td>\n",
       "      <td>NaN</td>\n",
       "      <td>NaN</td>\n",
       "      <td>NaN</td>\n",
       "    </tr>\n",
       "    <tr>\n",
       "      <th>0</th>\n",
       "      <td>NaN</td>\n",
       "      <td>NaN</td>\n",
       "      <td>NaN</td>\n",
       "      <td>NaN</td>\n",
       "      <td>NaN</td>\n",
       "      <td>NaN</td>\n",
       "      <td>NaN</td>\n",
       "      <td>NaN</td>\n",
       "      <td>NaN</td>\n",
       "      <td>NaN</td>\n",
       "      <td>1.0</td>\n",
       "      <td>5000.0</td>\n",
       "      <td>1.0</td>\n",
       "    </tr>\n",
       "    <tr>\n",
       "      <th>1</th>\n",
       "      <td>NaN</td>\n",
       "      <td>NaN</td>\n",
       "      <td>NaN</td>\n",
       "      <td>NaN</td>\n",
       "      <td>NaN</td>\n",
       "      <td>NaN</td>\n",
       "      <td>NaN</td>\n",
       "      <td>NaN</td>\n",
       "      <td>NaN</td>\n",
       "      <td>NaN</td>\n",
       "      <td>1.0</td>\n",
       "      <td>108590.0</td>\n",
       "      <td>1.0</td>\n",
       "    </tr>\n",
       "    <tr>\n",
       "      <th>2</th>\n",
       "      <td>NaN</td>\n",
       "      <td>NaN</td>\n",
       "      <td>NaN</td>\n",
       "      <td>NaN</td>\n",
       "      <td>NaN</td>\n",
       "      <td>NaN</td>\n",
       "      <td>NaN</td>\n",
       "      <td>NaN</td>\n",
       "      <td>NaN</td>\n",
       "      <td>NaN</td>\n",
       "      <td>1.0</td>\n",
       "      <td>5000.0</td>\n",
       "      <td>0.0</td>\n",
       "    </tr>\n",
       "    <tr>\n",
       "      <th>3</th>\n",
       "      <td>NaN</td>\n",
       "      <td>NaN</td>\n",
       "      <td>NaN</td>\n",
       "      <td>NaN</td>\n",
       "      <td>NaN</td>\n",
       "      <td>NaN</td>\n",
       "      <td>NaN</td>\n",
       "      <td>NaN</td>\n",
       "      <td>NaN</td>\n",
       "      <td>NaN</td>\n",
       "      <td>1.0</td>\n",
       "      <td>6692.0</td>\n",
       "      <td>1.0</td>\n",
       "    </tr>\n",
       "    <tr>\n",
       "      <th>...</th>\n",
       "      <td>...</td>\n",
       "      <td>...</td>\n",
       "      <td>...</td>\n",
       "      <td>...</td>\n",
       "      <td>...</td>\n",
       "      <td>...</td>\n",
       "      <td>...</td>\n",
       "      <td>...</td>\n",
       "      <td>...</td>\n",
       "      <td>...</td>\n",
       "      <td>...</td>\n",
       "      <td>...</td>\n",
       "      <td>...</td>\n",
       "    </tr>\n",
       "    <tr>\n",
       "      <th>34294</th>\n",
       "      <td>NaN</td>\n",
       "      <td>NaN</td>\n",
       "      <td>NaN</td>\n",
       "      <td>NaN</td>\n",
       "      <td>NaN</td>\n",
       "      <td>NaN</td>\n",
       "      <td>NaN</td>\n",
       "      <td>NaN</td>\n",
       "      <td>NaN</td>\n",
       "      <td>NaN</td>\n",
       "      <td>1.0</td>\n",
       "      <td>5000.0</td>\n",
       "      <td>0.0</td>\n",
       "    </tr>\n",
       "    <tr>\n",
       "      <th>34295</th>\n",
       "      <td>NaN</td>\n",
       "      <td>NaN</td>\n",
       "      <td>NaN</td>\n",
       "      <td>NaN</td>\n",
       "      <td>NaN</td>\n",
       "      <td>NaN</td>\n",
       "      <td>NaN</td>\n",
       "      <td>NaN</td>\n",
       "      <td>NaN</td>\n",
       "      <td>NaN</td>\n",
       "      <td>1.0</td>\n",
       "      <td>5000.0</td>\n",
       "      <td>0.0</td>\n",
       "    </tr>\n",
       "    <tr>\n",
       "      <th>34296</th>\n",
       "      <td>NaN</td>\n",
       "      <td>NaN</td>\n",
       "      <td>NaN</td>\n",
       "      <td>NaN</td>\n",
       "      <td>NaN</td>\n",
       "      <td>NaN</td>\n",
       "      <td>NaN</td>\n",
       "      <td>NaN</td>\n",
       "      <td>NaN</td>\n",
       "      <td>NaN</td>\n",
       "      <td>1.0</td>\n",
       "      <td>5000.0</td>\n",
       "      <td>0.0</td>\n",
       "    </tr>\n",
       "    <tr>\n",
       "      <th>34297</th>\n",
       "      <td>NaN</td>\n",
       "      <td>NaN</td>\n",
       "      <td>NaN</td>\n",
       "      <td>NaN</td>\n",
       "      <td>NaN</td>\n",
       "      <td>NaN</td>\n",
       "      <td>NaN</td>\n",
       "      <td>NaN</td>\n",
       "      <td>NaN</td>\n",
       "      <td>NaN</td>\n",
       "      <td>1.0</td>\n",
       "      <td>5000.0</td>\n",
       "      <td>1.0</td>\n",
       "    </tr>\n",
       "    <tr>\n",
       "      <th>34298</th>\n",
       "      <td>NaN</td>\n",
       "      <td>NaN</td>\n",
       "      <td>NaN</td>\n",
       "      <td>NaN</td>\n",
       "      <td>NaN</td>\n",
       "      <td>NaN</td>\n",
       "      <td>NaN</td>\n",
       "      <td>NaN</td>\n",
       "      <td>NaN</td>\n",
       "      <td>NaN</td>\n",
       "      <td>1.0</td>\n",
       "      <td>36500179.0</td>\n",
       "      <td>0.0</td>\n",
       "    </tr>\n",
       "  </tbody>\n",
       "</table>\n",
       "<p>205795 rows × 13 columns</p>\n",
       "</div>"
      ],
      "text/plain": [
       "       APPLICATION_TYPE_APPLICATION_TYPE  AFFILIATION_AFFILIATION  \\\n",
       "0                                    1.0                      1.0   \n",
       "0                                    NaN                      NaN   \n",
       "1                                    NaN                      NaN   \n",
       "2                                    NaN                      NaN   \n",
       "3                                    NaN                      NaN   \n",
       "...                                  ...                      ...   \n",
       "34294                                NaN                      NaN   \n",
       "34295                                NaN                      NaN   \n",
       "34296                                NaN                      NaN   \n",
       "34297                                NaN                      NaN   \n",
       "34298                                NaN                      NaN   \n",
       "\n",
       "       CLASSIFICATION_CLASSIFICATION  USE_CASE_USE_CASE  \\\n",
       "0                                1.0                1.0   \n",
       "0                                NaN                NaN   \n",
       "1                                NaN                NaN   \n",
       "2                                NaN                NaN   \n",
       "3                                NaN                NaN   \n",
       "...                              ...                ...   \n",
       "34294                            NaN                NaN   \n",
       "34295                            NaN                NaN   \n",
       "34296                            NaN                NaN   \n",
       "34297                            NaN                NaN   \n",
       "34298                            NaN                NaN   \n",
       "\n",
       "       ORGANIZATION_ORGANIZATION  STATUS_STATUS  INCOME_AMT_INCOME_AMT  \\\n",
       "0                            1.0            1.0                    1.0   \n",
       "0                            NaN            NaN                    NaN   \n",
       "1                            NaN            NaN                    NaN   \n",
       "2                            NaN            NaN                    NaN   \n",
       "3                            NaN            NaN                    NaN   \n",
       "...                          ...            ...                    ...   \n",
       "34294                        NaN            NaN                    NaN   \n",
       "34295                        NaN            NaN                    NaN   \n",
       "34296                        NaN            NaN                    NaN   \n",
       "34297                        NaN            NaN                    NaN   \n",
       "34298                        NaN            NaN                    NaN   \n",
       "\n",
       "       SPECIAL_CONSIDERATIONS_SPECIAL_CONSIDERATIONS  ASK_AMT_ASK_AMT  \\\n",
       "0                                                1.0              1.0   \n",
       "0                                                NaN              NaN   \n",
       "1                                                NaN              NaN   \n",
       "2                                                NaN              NaN   \n",
       "3                                                NaN              NaN   \n",
       "...                                              ...              ...   \n",
       "34294                                            NaN              NaN   \n",
       "34295                                            NaN              NaN   \n",
       "34296                                            NaN              NaN   \n",
       "34297                                            NaN              NaN   \n",
       "34298                                            NaN              NaN   \n",
       "\n",
       "       IS_SUCCESSFUL_IS_SUCCESSFUL  STATUS     ASK_AMT  IS_SUCCESSFUL  \n",
       "0                              1.0     NaN         NaN            NaN  \n",
       "0                              NaN     1.0      5000.0            1.0  \n",
       "1                              NaN     1.0    108590.0            1.0  \n",
       "2                              NaN     1.0      5000.0            0.0  \n",
       "3                              NaN     1.0      6692.0            1.0  \n",
       "...                            ...     ...         ...            ...  \n",
       "34294                          NaN     1.0      5000.0            0.0  \n",
       "34295                          NaN     1.0      5000.0            0.0  \n",
       "34296                          NaN     1.0      5000.0            0.0  \n",
       "34297                          NaN     1.0      5000.0            1.0  \n",
       "34298                          NaN     1.0  36500179.0            0.0  \n",
       "\n",
       "[205795 rows x 13 columns]"
      ]
     },
     "execution_count": 67,
     "metadata": {},
     "output_type": "execute_result"
    }
   ],
   "source": [
    "# Add the numerical variables from the original DataFrame to the one-hot encoding DataFrame\n",
    "encoded_df = pd.concat([encoded_df, applicant_data_df ])\n",
    "\n",
    "# Review the Dataframe\n",
    "# YOUR CODE HERE\n",
    "encoded_df.dtypes\n",
    "encoded_df = encoded_df.drop(columns = {\"APPLICATION_TYPE\",\"AFFILIATION\", \"CLASSIFICATION\", \"USE_CASE\", \"ORGANIZATION\", \"INCOME_AMT\", \"SPECIAL_CONSIDERATIONS\"})\n",
    "encoded_df"
   ]
  },
  {
   "cell_type": "markdown",
   "metadata": {},
   "source": [
    "### Step 5: Using the preprocessed data, create the features (`X`) and target (`y`) datasets. The target dataset should be defined by the preprocessed DataFrame column “IS_SUCCESSFUL”. The remaining columns should define the features dataset. \n",
    "\n"
   ]
  },
  {
   "cell_type": "code",
   "execution_count": 69,
   "metadata": {},
   "outputs": [
    {
     "data": {
      "text/plain": [
       "0        NaN\n",
       "0        1.0\n",
       "1        1.0\n",
       "2        0.0\n",
       "3        1.0\n",
       "        ... \n",
       "34294    0.0\n",
       "34295    0.0\n",
       "34296    0.0\n",
       "34297    1.0\n",
       "34298    0.0\n",
       "Name: IS_SUCCESSFUL, Length: 205795, dtype: float64"
      ]
     },
     "execution_count": 69,
     "metadata": {},
     "output_type": "execute_result"
    }
   ],
   "source": [
    "# Define the target set y using the IS_SUCCESSFUL column\n",
    "y = encoded_df[\"IS_SUCCESSFUL\"]\n",
    "\n",
    "# Display a sample of y\n",
    "# YOUR CODE HERE\n",
    "y"
   ]
  },
  {
   "cell_type": "code",
   "execution_count": 70,
   "metadata": {},
   "outputs": [
    {
     "data": {
      "text/plain": [
       "(205795, 13)"
      ]
     },
     "execution_count": 70,
     "metadata": {},
     "output_type": "execute_result"
    }
   ],
   "source": [
    "# Define features set X by selecting all columns but IS_SUCCESSFUL\n",
    "X = encoded_df.iloc[:, 0:19]\n",
    "\n",
    "# Review the features DataFrame\n",
    "# YOUR CODE HERE\n",
    "X\n",
    "X.shape"
   ]
  },
  {
   "cell_type": "markdown",
   "metadata": {},
   "source": [
    "### Step 6: Split the features and target sets into training and testing datasets.\n"
   ]
  },
  {
   "cell_type": "code",
   "execution_count": 74,
   "metadata": {},
   "outputs": [],
   "source": [
    "# Split the preprocessed data into a training and testing dataset\n",
    "# Assign the function a random_state equal to 1\n",
    "X_train, X_test, y_train, y_test = train_test_split(X, y, random_state = 1)\n"
   ]
  },
  {
   "cell_type": "markdown",
   "metadata": {},
   "source": [
    "### Step 7: Use scikit-learn's `StandardScaler` to scale the features data."
   ]
  },
  {
   "cell_type": "code",
   "execution_count": 75,
   "metadata": {},
   "outputs": [],
   "source": [
    "# Create a StandardScaler instance\n",
    "X_scaler = StandardScaler()\n",
    "\n",
    "# Fit the scaler to the features training dataset\n",
    "X_scaler.fit(X_train)\n",
    "\n",
    "# Fit the scaler to the features training dataset\n",
    "X_train_scaled = X_scaler.transform(X_train)\n",
    "X_test_scaled = X_scaler.transform(X_test)"
   ]
  },
  {
   "cell_type": "markdown",
   "metadata": {},
   "source": [
    "---\n",
    "\n",
    "## Compile and Evaluate a Binary Classification Model Using a Neural Network"
   ]
  },
  {
   "cell_type": "markdown",
   "metadata": {},
   "source": [
    "### Step 1: Create a deep neural network by assigning the number of input features, the number of layers, and the number of neurons on each layer using Tensorflow’s Keras.\n",
    "\n",
    "> **Hint** You can start with a two-layer deep neural network model that uses the `relu` activation function for both layers.\n"
   ]
  },
  {
   "cell_type": "code",
   "execution_count": 107,
   "metadata": {},
   "outputs": [
    {
     "data": {
      "text/plain": [
       "13"
      ]
     },
     "execution_count": 107,
     "metadata": {},
     "output_type": "execute_result"
    }
   ],
   "source": [
    "# Define the the number of inputs (features) to the model\n",
    "number_input_features = 13\n",
    "\n",
    "# Review the number of features\n",
    "number_input_features\n"
   ]
  },
  {
   "cell_type": "code",
   "execution_count": 108,
   "metadata": {},
   "outputs": [
    {
     "data": {
      "text/plain": [
       "1"
      ]
     },
     "execution_count": 108,
     "metadata": {},
     "output_type": "execute_result"
    }
   ],
   "source": [
    "number_output_features = 1\n",
    "number_output_features"
   ]
  },
  {
   "cell_type": "markdown",
   "metadata": {},
   "source": [
    "## Define the number of neurons in the output layer\n",
    "number_output_neurons = 2"
   ]
  },
  {
   "cell_type": "code",
   "execution_count": 109,
   "metadata": {},
   "outputs": [
    {
     "data": {
      "text/plain": [
       "8"
      ]
     },
     "execution_count": 109,
     "metadata": {},
     "output_type": "execute_result"
    }
   ],
   "source": [
    "# Define the number of hidden nodes for the first hidden layer\n",
    "hidden_nodes_layer1 =  8\n",
    "\n",
    "# Review the number hidden nodes in the first layer\n",
    "hidden_nodes_layer1\n"
   ]
  },
  {
   "cell_type": "code",
   "execution_count": 110,
   "metadata": {},
   "outputs": [
    {
     "data": {
      "text/plain": [
       "3"
      ]
     },
     "execution_count": 110,
     "metadata": {},
     "output_type": "execute_result"
    }
   ],
   "source": [
    "# Define the number of hidden nodes for the second hidden layer\n",
    "hidden_nodes_layer2 =  3\n",
    "\n",
    "# Review the number hidden nodes in the second layer\n",
    "hidden_nodes_layer2\n"
   ]
  },
  {
   "cell_type": "code",
   "execution_count": null,
   "metadata": {},
   "outputs": [],
   "source": []
  },
  {
   "cell_type": "code",
   "execution_count": 111,
   "metadata": {},
   "outputs": [],
   "source": [
    "# Create the Sequential model instance\n",
    "nn_1 = Sequential()\n"
   ]
  },
  {
   "cell_type": "code",
   "execution_count": 112,
   "metadata": {},
   "outputs": [],
   "source": [
    "# Add the first hidden layer\n",
    "\n",
    "nn_1.add(Dense(units=hidden_nodes_layer1, input_dim=number_input_features, activation=\"relu\"))"
   ]
  },
  {
   "cell_type": "code",
   "execution_count": 113,
   "metadata": {},
   "outputs": [],
   "source": [
    "# Add the second hidden layer\n",
    "\n",
    "nn_1.add(Dense(units=hidden_nodes_layer2, activation=\"relu\"))"
   ]
  },
  {
   "cell_type": "code",
   "execution_count": 114,
   "metadata": {},
   "outputs": [],
   "source": [
    "# Add the output layer to the model specifying the number of output neurons and activation function\n",
    "\n",
    "nn_1.add(Dense(units=1, activation=\"linear\"))"
   ]
  },
  {
   "cell_type": "code",
   "execution_count": 115,
   "metadata": {},
   "outputs": [
    {
     "name": "stdout",
     "output_type": "stream",
     "text": [
      "Model: \"sequential_3\"\n",
      "_________________________________________________________________\n",
      " Layer (type)                Output Shape              Param #   \n",
      "=================================================================\n",
      " dense_7 (Dense)             (None, 8)                 112       \n",
      "                                                                 \n",
      " dense_8 (Dense)             (None, 3)                 27        \n",
      "                                                                 \n",
      " dense_9 (Dense)             (None, 1)                 4         \n",
      "                                                                 \n",
      "=================================================================\n",
      "Total params: 143\n",
      "Trainable params: 143\n",
      "Non-trainable params: 0\n",
      "_________________________________________________________________\n"
     ]
    }
   ],
   "source": [
    "# Display the Sequential model summary\n",
    "\n",
    "nn_1.summary()"
   ]
  },
  {
   "cell_type": "markdown",
   "metadata": {},
   "source": [
    "### Step 2: Compile and fit the model using the `binary_crossentropy` loss function, the `adam` optimizer, and the `accuracy` evaluation metric.\n"
   ]
  },
  {
   "cell_type": "code",
   "execution_count": 118,
   "metadata": {},
   "outputs": [],
   "source": [
    "# Compile the Sequential model\n",
    "# YOUR CODE HERE\n",
    "nn_1.compile(loss=\"binary_crossentropy\", optimizer=\"adam\", metrics=[\"mse\"])"
   ]
  },
  {
   "cell_type": "code",
   "execution_count": 119,
   "metadata": {},
   "outputs": [
    {
     "name": "stdout",
     "output_type": "stream",
     "text": [
      "Epoch 1/50\n",
      "4824/4824 [==============================] - 4s 754us/step - loss: nan - mse: nan\n",
      "Epoch 2/50\n",
      "4824/4824 [==============================] - ETA: 0s - loss: nan - mse: na - 4s 780us/step - loss: nan - mse: nan\n",
      "Epoch 3/50\n",
      "4824/4824 [==============================] - 4s 758us/step - loss: nan - mse: nan\n",
      "Epoch 4/50\n",
      "4824/4824 [==============================] - 4s 767us/step - loss: nan - mse: nan\n",
      "Epoch 5/50\n",
      "4824/4824 [==============================] - 4s 754us/step - loss: nan - mse: nan \n",
      "Epoch 6/50\n",
      "4824/4824 [==============================] - 4s 777us/step - loss: nan - mse: nan 2s - loss: na -  - ETA: 0s - loss: nan - ms\n",
      "Epoch 7/50\n",
      "4824/4824 [==============================] - 4s 759us/step - loss: nan - mse: nan 1s -\n",
      "Epoch 8/50\n",
      "4824/4824 [==============================] - 4s 770us/step - loss: nan - mse: nan\n",
      "Epoch 9/50\n",
      "4824/4824 [==============================] - 4s 802us/step - loss: nan - mse: nan\n",
      "Epoch 10/50\n",
      "4824/4824 [==============================] - 4s 785us/step - loss: nan - mse: nan\n",
      "Epoch 11/50\n",
      "4824/4824 [==============================] - 4s 762us/step - loss: nan - mse: nan 1s - loss: nan - ETA: 0s - los\n",
      "Epoch 12/50\n",
      "4824/4824 [==============================] - 4s 757us/step - loss: nan - mse: nan\n",
      "Epoch 13/50\n",
      "4824/4824 [==============================] - 4s 782us/step - loss: nan - mse: nan\n",
      "Epoch 14/50\n",
      "4824/4824 [==============================] - 4s 784us/step - loss: nan - mse: nan\n",
      "Epoch 15/50\n",
      "4824/4824 [==============================] - 4s 744us/step - loss: nan - mse: nan 0s - loss: nan - mse: \n",
      "Epoch 16/50\n",
      "4824/4824 [==============================] - 4s 743us/step - loss: nan - mse: nan 0s - loss: nan \n",
      "Epoch 17/50\n",
      "4824/4824 [==============================] - 4s 753us/step - loss: nan - mse: nan\n",
      "Epoch 18/50\n",
      "4824/4824 [==============================] - 4s 731us/step - loss: nan - mse: nan\n",
      "Epoch 19/50\n",
      "4824/4824 [==============================] - 4s 743us/step - loss: nan - mse: nan\n",
      "Epoch 20/50\n",
      "4824/4824 [==============================] - 4s 734us/step - loss: nan - mse: nan 2s -\n",
      "Epoch 21/50\n",
      "4824/4824 [==============================] - 4s 782us/step - loss: nan - mse: nan 0s - loss:\n",
      "Epoch 22/50\n",
      "4824/4824 [==============================] - 4s 794us/step - loss: nan - mse: nan\n",
      "Epoch 23/50\n",
      "4824/4824 [==============================] - 4s 788us/step - loss: nan - mse: nan 3s - loss: - ETA: \n",
      "Epoch 24/50\n",
      "4824/4824 [==============================] - 4s 768us/step - loss: nan - mse: nan 1s\n",
      "Epoch 25/50\n",
      "4824/4824 [==============================] - 4s 763us/step - loss: nan - mse: nan\n",
      "Epoch 26/50\n",
      "4824/4824 [==============================] - 4s 756us/step - loss: nan - mse: nan 0s - loss: nan - mse: na\n",
      "Epoch 27/50\n",
      "4824/4824 [==============================] - 4s 747us/step - loss: nan - mse: nan 0s - loss: na\n",
      "Epoch 28/50\n",
      "4824/4824 [==============================] - 4s 803us/step - loss: nan - mse: nan\n",
      "Epoch 29/50\n",
      "4824/4824 [==============================] - 4s 788us/step - loss: nan - mse: nan 1s - loss: nan - mse: na - ETA: 0s - \n",
      "Epoch 30/50\n",
      "4824/4824 [==============================] - 4s 770us/step - loss: nan - mse: nan\n",
      "Epoch 31/50\n",
      "4824/4824 [==============================] - 4s 778us/step - loss: nan - mse: nan\n",
      "Epoch 32/50\n",
      "4824/4824 [==============================] - 4s 789us/step - loss: nan - mse: nan- ETA: 0s - loss: nan - mse:\n",
      "Epoch 33/50\n",
      "4824/4824 [==============================] - 4s 774us/step - loss: nan - mse: nan 0s - loss: nan - mse\n",
      "Epoch 34/50\n",
      "4824/4824 [==============================] - 4s 770us/step - loss: nan - mse: nan\n",
      "Epoch 35/50\n",
      "4824/4824 [==============================] - 4s 785us/step - loss: nan - mse: nan 0s - loss:\n",
      "Epoch 36/50\n",
      "4824/4824 [==============================] - 4s 796us/step - loss: nan - mse: nan 0s - loss: nan - mse:\n",
      "Epoch 37/50\n",
      "4824/4824 [==============================] - 4s 775us/step - loss: nan - mse: nan\n",
      "Epoch 38/50\n",
      "4824/4824 [==============================] - 4s 781us/step - loss: nan - mse: nan\n",
      "Epoch 39/50\n",
      "4824/4824 [==============================] - 4s 786us/step - loss: nan - mse: nan\n",
      "Epoch 40/50\n",
      "4824/4824 [==============================] - 4s 821us/step - loss: nan - mse: nan 2s - lo\n",
      "Epoch 41/50\n",
      "4824/4824 [==============================] - 4s 786us/step - loss: nan - mse: nan\n",
      "Epoch 42/50\n",
      "4824/4824 [==============================] - 4s 824us/step - loss: nan - mse: nan\n",
      "Epoch 43/50\n",
      "4824/4824 [==============================] - 4s 801us/step - loss: nan - mse: nan\n",
      "Epoch 44/50\n",
      "4824/4824 [==============================] - 4s 797us/step - loss: nan - mse: nan\n",
      "Epoch 45/50\n",
      "4824/4824 [==============================] - 4s 804us/step - loss: nan - mse: nan \n",
      "Epoch 46/50\n",
      "4824/4824 [==============================] - 4s 796us/step - loss: nan - mse: nan 2s - loss: nan  - ETA: 1s - loss: nan  - ETA: 1s - loss: nan  - ETA: 0s - loss: nan\n",
      "Epoch 47/50\n",
      "4824/4824 [==============================] - 4s 799us/step - loss: nan - mse: nan\n",
      "Epoch 48/50\n",
      "4824/4824 [==============================] - 4s 796us/step - loss: nan - mse: nan\n",
      "Epoch 49/50\n",
      "4824/4824 [==============================] - 4s 835us/step - loss: nan - mse: nan\n",
      "Epoch 50/50\n",
      "4824/4824 [==============================] - 4s 805us/step - loss: nan - mse: nan 0s - loss: na\n"
     ]
    }
   ],
   "source": [
    "# Fit the model using 50 epochs and the training data\n",
    "# YOUR CODE HERE\n",
    "deep_net_model_1 = nn_1.fit(X_train_scaled, y_train, epochs=50)"
   ]
  },
  {
   "cell_type": "markdown",
   "metadata": {},
   "source": [
    "### Step 3: Evaluate the model using the test data to determine the model’s loss and accuracy.\n"
   ]
  },
  {
   "cell_type": "code",
   "execution_count": 122,
   "metadata": {},
   "outputs": [
    {
     "name": "stdout",
     "output_type": "stream",
     "text": [
      "1608/1608 - 1s - loss: nan - mse: nan - 850ms/epoch - 528us/step\n",
      "Loss: nan, Accuracy: nan\n"
     ]
    }
   ],
   "source": [
    "# Evaluate the model loss and accuracy metrics using the evaluate method and the test data\n",
    "model_loss, model_accuracy = nn_1.evaluate(X_test_scaled, y_test, verbose=2)\n",
    "\n",
    "# Display the model loss and accuracy results\n",
    "print(f\"Loss: {model_loss}, Accuracy: {model_accuracy}\")"
   ]
  },
  {
   "cell_type": "markdown",
   "metadata": {},
   "source": [
    "### Step 4: Save and export your model to an HDF5 file, and name the file `AlphabetSoup.h5`. \n"
   ]
  },
  {
   "cell_type": "code",
   "execution_count": 124,
   "metadata": {},
   "outputs": [],
   "source": [
    "# Set the model's file path\n",
    "file_path = Path(\"Resources/AlphabetSoup.h5\")\n",
    "\n",
    "# Export your model to a HDF5 file\n",
    "# YOUR CODE HERE\n",
    "nn_1.save(file_path)"
   ]
  },
  {
   "cell_type": "markdown",
   "metadata": {},
   "source": [
    "---\n",
    "\n",
    "## Optimize the neural network model\n"
   ]
  },
  {
   "cell_type": "markdown",
   "metadata": {},
   "source": [
    "### Step 1: Define at least three new deep neural network models (resulting in the original plus 3 optimization attempts). With each, try to improve on your first model’s predictive accuracy.\n",
    "\n",
    "> **Rewind** Recall that perfect accuracy has a value of 1, so accuracy improves as its value moves closer to 1. To optimize your model for a predictive accuracy as close to 1 as possible, you can use any or all of the following techniques:\n",
    ">\n",
    "> * Adjust the input data by dropping different features columns to ensure that no variables or outliers confuse the model.\n",
    ">\n",
    "> * Add more neurons (nodes) to a hidden layer.\n",
    ">\n",
    "> * Add more hidden layers.\n",
    ">\n",
    "> * Use different activation functions for the hidden layers.\n",
    ">\n",
    "> * Add to or reduce the number of epochs in the training regimen.\n"
   ]
  },
  {
   "cell_type": "markdown",
   "metadata": {},
   "source": [
    "### Alternative Model 1"
   ]
  },
  {
   "cell_type": "code",
   "execution_count": 125,
   "metadata": {},
   "outputs": [
    {
     "data": {
      "text/plain": [
       "13"
      ]
     },
     "execution_count": 125,
     "metadata": {},
     "output_type": "execute_result"
    }
   ],
   "source": [
    "# Define the the number of inputs (features) to the model\n",
    "number_input_features = len(X_train.iloc[0])\n",
    "\n",
    "# Review the number of features\n",
    "number_input_features"
   ]
  },
  {
   "cell_type": "code",
   "execution_count": null,
   "metadata": {},
   "outputs": [],
   "source": [
    "# Define the number of neurons in the output layer\n",
    "number_output_neurons_A1 = 3"
   ]
  },
  {
   "cell_type": "code",
   "execution_count": 126,
   "metadata": {},
   "outputs": [
    {
     "data": {
      "text/plain": [
       "10"
      ]
     },
     "execution_count": 126,
     "metadata": {},
     "output_type": "execute_result"
    }
   ],
   "source": [
    "# Define the number of hidden nodes for the first hidden layer\n",
    "hidden_nodes_layer1_A1 = 10\n",
    "\n",
    "# Review the number of hidden nodes in the first layer\n",
    "hidden_nodes_layer1_A1"
   ]
  },
  {
   "cell_type": "code",
   "execution_count": 127,
   "metadata": {},
   "outputs": [],
   "source": [
    "# Create the Sequential model instance\n",
    "nn_A1 = Sequential()"
   ]
  },
  {
   "cell_type": "code",
   "execution_count": null,
   "metadata": {},
   "outputs": [],
   "source": [
    "# First hidden layer\n",
    "nn_A1.add(Dense(units=hidden_nodes_layer1, input_dim=number_input_features, activation=\"relu\"))\n",
    "\n",
    "\n",
    "# Output layer\n",
    "Output_nodes = 1\n",
    "\n",
    "\n",
    "# Check the structure of the model\n",
    "# YOUR CODE HERE"
   ]
  },
  {
   "cell_type": "code",
   "execution_count": 128,
   "metadata": {},
   "outputs": [],
   "source": [
    "# Compile the Sequential model\n",
    "nn_A1.compile(loss=\"binary_crossentropy\", optimizer=\"adam\", metrics=[\"accuracy\"])\n"
   ]
  },
  {
   "cell_type": "code",
   "execution_count": 129,
   "metadata": {},
   "outputs": [
    {
     "name": "stdout",
     "output_type": "stream",
     "text": [
      "Epoch 1/50\n",
      "4824/4824 [==============================] - 3s 580us/step - loss: nan - accuracy: 0.0000e+00 0s - loss: nan - accura\n",
      "Epoch 2/50\n",
      "4824/4824 [==============================] - 3s 584us/step - loss: nan - accuracy: 0.0000e+00 1s - loss:\n",
      "Epoch 3/50\n",
      "4824/4824 [==============================] - 3s 586us/step - loss: nan - accuracy: 0.0000e+00\n",
      "Epoch 4/50\n",
      "4824/4824 [==============================] - 3s 586us/step - loss: nan - accuracy: 0.0000e+00\n",
      "Epoch 5/50\n",
      "4824/4824 [==============================] - 3s 598us/step - loss: nan - accuracy: 0.0000e+00\n",
      "Epoch 6/50\n",
      "4824/4824 [==============================] - 3s 583us/step - loss: nan - accuracy: 0.0000e+00 0s - loss: nan - accuracy: 0\n",
      "Epoch 7/50\n",
      "4824/4824 [==============================] - 3s 534us/step - loss: nan - accuracy: 0.0000e+00\n",
      "Epoch 8/50\n",
      "4824/4824 [==============================] - 3s 548us/step - loss: nan - accuracy: 0.0000e+00 2s - loss: nan  - ETA: 1s - loss: n\n",
      "Epoch 9/50\n",
      "4824/4824 [==============================] - 3s 558us/step - loss: nan - accuracy: 0.0000e+00\n",
      "Epoch 10/50\n",
      "4824/4824 [==============================] - 3s 602us/step - loss: nan - accuracy: 0.0000e+00 1s - loss: nan -  - ETA: 0s - loss: nan - a\n",
      "Epoch 11/50\n",
      "4824/4824 [==============================] - 3s 592us/step - loss: nan - accuracy: 0.0000e+00 1s - loss: na\n",
      "Epoch 12/50\n",
      "4824/4824 [==============================] - 3s 570us/step - loss: nan - accuracy: 0.0000e+00\n",
      "Epoch 13/50\n",
      "4824/4824 [==============================] - 3s 548us/step - loss: nan - accuracy: 0.0000e+00 1s - loss: nan -\n",
      "Epoch 14/50\n",
      "4824/4824 [==============================] - 3s 543us/step - loss: nan - accuracy: 0.0000e+00\n",
      "Epoch 15/50\n",
      "4824/4824 [==============================] - 3s 534us/step - loss: nan - accuracy: 0.0000e+00\n",
      "Epoch 16/50\n",
      "4824/4824 [==============================] - 3s 536us/step - loss: nan - accuracy: 0.0000e+00\n",
      "Epoch 17/50\n",
      "4824/4824 [==============================] - 3s 535us/step - loss: nan - accuracy: 0.0000e+00 0s - loss: nan - accuracy: 0.000 - ETA: 0s - loss: nan - accuracy: 0.0000e+\n",
      "Epoch 18/50\n",
      "4824/4824 [==============================] - 3s 550us/step - loss: nan - accuracy: 0.0000e+00\n",
      "Epoch 19/50\n",
      "4824/4824 [==============================] - 3s 534us/step - loss: nan - accuracy: 0.0000e+00 0s - loss: nan - accuracy: 0.0000e+0 - ETA: 0s - loss: nan - accuracy: 0.00\n",
      "Epoch 20/50\n",
      "4824/4824 [==============================] - 3s 542us/step - loss: nan - accuracy: 0.0000e+00\n",
      "Epoch 21/50\n",
      "4824/4824 [==============================] - 3s 542us/step - loss: nan - accuracy: 0.0000e+00 0s - loss: nan - accuracy: 0.0000\n",
      "Epoch 22/50\n",
      "4824/4824 [==============================] - 3s 547us/step - loss: nan - accuracy: 0.0000e+00 1s - los\n",
      "Epoch 23/50\n",
      "4824/4824 [==============================] - 3s 562us/step - loss: nan - accuracy: 0.0000e+00\n",
      "Epoch 24/50\n",
      "4824/4824 [==============================] - 3s 578us/step - loss: nan - accuracy: 0.0000e+00 1s - loss: nan - accuracy: 0.000 - ETA: 0s - loss: nan - accur\n",
      "Epoch 25/50\n",
      "4824/4824 [==============================] - 3s 547us/step - loss: nan - accuracy: 0.0000e+00\n",
      "Epoch 26/50\n",
      "4824/4824 [==============================] - 3s 546us/step - loss: nan - accuracy: 0.0000e+00\n",
      "Epoch 27/50\n",
      "4824/4824 [==============================] - 3s 569us/step - loss: nan - accuracy: 0.0000e+00\n",
      "Epoch 28/50\n",
      "4824/4824 [==============================] - 3s 542us/step - loss: nan - accuracy: 0.0000e+00\n",
      "Epoch 29/50\n",
      "4824/4824 [==============================] - 3s 541us/step - loss: nan - accuracy: 0.0000e+00\n",
      "Epoch 30/50\n",
      "4824/4824 [==============================] - 3s 559us/step - loss: nan - accuracy: 0.0000e+00\n",
      "Epoch 31/50\n",
      "4824/4824 [==============================] - 3s 539us/step - loss: nan - accuracy: 0.0000e+00\n",
      "Epoch 32/50\n",
      "4824/4824 [==============================] - 3s 540us/step - loss: nan - accuracy: 0.0000e+00 2s - loss: nan - accuracy: 0.0 - ETA: 1s - loss: nan - accura - ETA: 1s - loss: nan \n",
      "Epoch 33/50\n",
      "4824/4824 [==============================] - 3s 551us/step - loss: nan - accuracy: 0.0000e+00\n",
      "Epoch 34/50\n",
      "4824/4824 [==============================] - 3s 546us/step - loss: nan - accuracy: 0.0000e+00\n",
      "Epoch 35/50\n",
      "4824/4824 [==============================] - 3s 550us/step - loss: nan - accuracy: 0.0000e+00\n",
      "Epoch 36/50\n",
      "4824/4824 [==============================] - 3s 578us/step - loss: nan - accuracy: 0.0000e+00 2s - loss: nan - accuracy: 0.0 - ETA: 2s - loss: nan - accurac - ETA: 1s - lo - ETA: 0s - loss: nan - accuracy: 0.0000\n",
      "Epoch 37/50\n",
      "4824/4824 [==============================] - 3s 596us/step - loss: nan - accuracy: 0.0000e+00 1s - loss: nan - accuracy: 0.0000 - ETA: 1s - \n",
      "Epoch 38/50\n",
      "4824/4824 [==============================] - 3s 603us/step - loss: nan - accuracy: 0.0000e+00\n",
      "Epoch 39/50\n",
      "4824/4824 [==============================] - 3s 596us/step - loss: nan - accuracy: 0.0000e+00 0s - loss: nan - accura\n",
      "Epoch 40/50\n",
      "4824/4824 [==============================] - 3s 596us/step - loss: nan - accuracy: 0.0000e+00\n",
      "Epoch 41/50\n",
      "4824/4824 [==============================] - 3s 611us/step - loss: nan - accuracy: 0.0000e+00 1s \n",
      "Epoch 42/50\n",
      "4824/4824 [==============================] - 3s 552us/step - loss: nan - accuracy: 0.0000e+00 1s - loss\n",
      "Epoch 43/50\n",
      "4824/4824 [==============================] - 3s 564us/step - loss: nan - accuracy: 0.0000e+00\n",
      "Epoch 44/50\n",
      "4824/4824 [==============================] - 3s 589us/step - loss: nan - accuracy: 0.0000e+00\n",
      "Epoch 45/50\n",
      "4824/4824 [==============================] - 3s 591us/step - loss: nan - accuracy: 0.0000e+00 1s - loss: nan\n",
      "Epoch 46/50\n",
      "4824/4824 [==============================] - 3s 588us/step - loss: nan - accuracy: 0.0000e+00\n",
      "Epoch 47/50\n",
      "4824/4824 [==============================] - 3s 592us/step - loss: nan - accuracy: 0.0000e+00 0s - loss: nan - accuracy: 0.0000e\n",
      "Epoch 48/50\n",
      "4824/4824 [==============================] - 3s 590us/step - loss: nan - accuracy: 0.0000e+00 0s - loss: nan - accuracy\n",
      "Epoch 49/50\n",
      "4824/4824 [==============================] - 3s 615us/step - loss: nan - accuracy: 0.0000e+00\n",
      "Epoch 50/50\n",
      "4824/4824 [==============================] - 3s 591us/step - loss: nan - accuracy: 0.0000e+00\n"
     ]
    }
   ],
   "source": [
    "# Fit the model using 50 epochs and the training data\n",
    "fit_model_A1 = nn_A1.fit(X_train_scaled, y_train, epochs=50)\n"
   ]
  },
  {
   "cell_type": "markdown",
   "metadata": {},
   "source": [
    "#### Alternative Model 2"
   ]
  },
  {
   "cell_type": "code",
   "execution_count": 130,
   "metadata": {},
   "outputs": [
    {
     "data": {
      "text/plain": [
       "13"
      ]
     },
     "execution_count": 130,
     "metadata": {},
     "output_type": "execute_result"
    }
   ],
   "source": [
    "# Define the the number of inputs (features) to the model\n",
    "number_input_features = len(X_train.iloc[0])\n",
    "\n",
    "# Review the number of features\n",
    "number_input_features"
   ]
  },
  {
   "cell_type": "code",
   "execution_count": 131,
   "metadata": {},
   "outputs": [],
   "source": [
    "# Define the number of neurons in the output layer\n",
    "number_output_neurons_A2 = 2"
   ]
  },
  {
   "cell_type": "code",
   "execution_count": 132,
   "metadata": {},
   "outputs": [
    {
     "data": {
      "text/plain": [
       "13"
      ]
     },
     "execution_count": 132,
     "metadata": {},
     "output_type": "execute_result"
    }
   ],
   "source": [
    "# Define the number of hidden nodes for the first hidden layer\n",
    "hidden_nodes_layer1_A2 = 13\n",
    "\n",
    "# Review the number of hidden nodes in the first layer\n",
    "hidden_nodes_layer1_A2"
   ]
  },
  {
   "cell_type": "code",
   "execution_count": 133,
   "metadata": {},
   "outputs": [],
   "source": [
    "# Create the Sequential model instance\n",
    "nn_A2 = Sequential()"
   ]
  },
  {
   "cell_type": "code",
   "execution_count": 134,
   "metadata": {},
   "outputs": [],
   "source": [
    "# First hidden layer\n",
    "nn_A2.add(Dense(units=hidden_nodes_layer1, input_dim=number_input_features, activation=\"relu\"))\n",
    "\n",
    "# Output layer\n",
    "Output_nodes = 2\n",
    "\n",
    "# Check the structure of the model\n",
    "# YOUR CODE HERE\n"
   ]
  },
  {
   "cell_type": "code",
   "execution_count": 135,
   "metadata": {},
   "outputs": [],
   "source": [
    "# Compile the model\n",
    "nn_A2.compile(loss=\"binary_crossentropy\", optimizer=\"adam\", metrics=[\"accuracy\"])\n"
   ]
  },
  {
   "cell_type": "code",
   "execution_count": 136,
   "metadata": {},
   "outputs": [
    {
     "name": "stdout",
     "output_type": "stream",
     "text": [
      "Epoch 1/50\n",
      "4824/4824 [==============================] - 4s 742us/step - loss: nan - accuracy: 0.4664 0s - loss: nan - accurac - ETA: 0s - loss: nan - accuracy:\n",
      "Epoch 2/50\n",
      "4824/4824 [==============================] - 4s 738us/step - loss: nan - accuracy: 0.4664\n",
      "Epoch 3/50\n",
      "4824/4824 [==============================] - 4s 729us/step - loss: nan - accuracy: 0.4664\n",
      "Epoch 4/50\n",
      "4824/4824 [==============================] - 3s 725us/step - loss: nan - accuracy: 0.4664\n",
      "Epoch 5/50\n",
      "4824/4824 [==============================] - 3s 710us/step - loss: nan - accuracy: 0.4664\n",
      "Epoch 6/50\n",
      "4824/4824 [==============================] - 3s 716us/step - loss: nan - accuracy: 0.4664\n",
      "Epoch 7/50\n",
      "4824/4824 [==============================] - 3s 702us/step - loss: nan - accuracy: 0.4664\n",
      "Epoch 8/50\n",
      "4824/4824 [==============================] - 3s 713us/step - loss: nan - accuracy: 0.4664 0s - loss: na\n",
      "Epoch 9/50\n",
      "4824/4824 [==============================] - 3s 724us/step - loss: nan - accuracy: 0.4664\n",
      "Epoch 10/50\n",
      "4824/4824 [==============================] - 4s 768us/step - loss: nan - accuracy: 0.4664 0s - loss: nan - accuracy: \n",
      "Epoch 11/50\n",
      "4824/4824 [==============================] - 4s 805us/step - loss: nan - accuracy: 0.4664 1s - loss: nan - accuracy: 0.46 - ETA: 1s - loss: nan - a - ETA: 0s - loss: nan - accuracy: \n",
      "Epoch 12/50\n",
      "4824/4824 [==============================] - 4s 765us/step - loss: nan - accuracy: 0.4664\n",
      "Epoch 13/50\n",
      "4824/4824 [==============================] - 3s 721us/step - loss: nan - accuracy: 0.4664\n",
      "Epoch 14/50\n",
      "4824/4824 [==============================] - 3s 723us/step - loss: nan - accuracy: 0.4664 0s - loss: nan - accuracy: \n",
      "Epoch 15/50\n",
      "4824/4824 [==============================] - 4s 726us/step - loss: nan - accuracy: 0.4664\n",
      "Epoch 16/50\n",
      "4824/4824 [==============================] - 3s 715us/step - loss: nan - accuracy: 0.4664\n",
      "Epoch 17/50\n",
      "4824/4824 [==============================] - 3s 716us/step - loss: nan - accuracy: 0.4664\n",
      "Epoch 18/50\n",
      "4824/4824 [==============================] - 3s 722us/step - loss: nan - accuracy: 0.4664 3s - loss: nan - accurac - ETA: 2s - loss: nan - accur -\n",
      "Epoch 19/50\n",
      "4824/4824 [==============================] - 4s 729us/step - loss: nan - accuracy: 0.4664\n",
      "Epoch 20/50\n",
      "4824/4824 [==============================] - 4s 735us/step - loss: nan - accuracy: 0.4664\n",
      "Epoch 21/50\n",
      "4824/4824 [==============================] - 3s 725us/step - loss: nan - accuracy: 0.4664 ETA: 1s - loss: \n",
      "Epoch 22/50\n",
      "4824/4824 [==============================] - 3s 713us/step - loss: nan - accuracy: 0.4664 1s - loss: nan - accuracy: 0.468 - ETA\n",
      "Epoch 23/50\n",
      "4824/4824 [==============================] - 3s 714us/step - loss: nan - accuracy: 0.4664\n",
      "Epoch 24/50\n",
      "4824/4824 [==============================] - 3s 720us/step - loss: nan - accuracy: 0.4664\n",
      "Epoch 25/50\n",
      "4824/4824 [==============================] - 4s 727us/step - loss: nan - accuracy: 0.4664 0s - loss: nan - accuracy: 0.4\n",
      "Epoch 26/50\n",
      "4824/4824 [==============================] - 3s 725us/step - loss: nan - accuracy: 0.4664\n",
      "Epoch 27/50\n",
      "4824/4824 [==============================] - 4s 739us/step - loss: nan - accuracy: 0.4664\n",
      "Epoch 28/50\n",
      "4824/4824 [==============================] - 4s 739us/step - loss: nan - accuracy: 0.4664 0s - loss: nan - accuracy: 0.46\n",
      "Epoch 29/50\n",
      "4824/4824 [==============================] - 4s 735us/step - loss: nan - accuracy: 0.4664\n",
      "Epoch 30/50\n",
      "4824/4824 [==============================] - 3s 721us/step - loss: nan - accuracy: 0.4664 1s - l\n",
      "Epoch 31/50\n",
      "4824/4824 [==============================] - 3s 724us/step - loss: nan - accuracy: 0.4664\n",
      "Epoch 32/50\n",
      "4824/4824 [==============================] - 4s 755us/step - loss: nan - accuracy: 0.4664\n",
      "Epoch 33/50\n",
      "4824/4824 [==============================] - 4s 739us/step - loss: nan - accuracy: 0.4664\n",
      "Epoch 34/50\n",
      "4824/4824 [==============================] - 4s 751us/step - loss: nan - accuracy: 0.4664 0s - loss: nan - accuracy: 0.4 - ETA: 0s - loss: nan - accuracy: 0.46\n",
      "Epoch 35/50\n",
      "4824/4824 [==============================] - 4s 736us/step - loss: nan - accuracy: 0.4664 2s - loss: nan - ET\n",
      "Epoch 36/50\n",
      "4824/4824 [==============================] - 4s 739us/step - loss: nan - accuracy: 0.4664 3s - loss: nan - accuracy - ETA - ETA: 0s - loss: nan -\n",
      "Epoch 37/50\n",
      "4824/4824 [==============================] - 4s 741us/step - loss: nan - accuracy: 0.4664 0s - loss: nan - accuracy: 0.4 - ETA: 0s - loss: nan - acc\n",
      "Epoch 38/50\n",
      "4824/4824 [==============================] - 4s 752us/step - loss: nan - accuracy: 0.4664\n",
      "Epoch 39/50\n",
      "4824/4824 [==============================] - 4s 735us/step - loss: nan - accuracy: 0.4664 0s - loss: nan - accurac\n",
      "Epoch 40/50\n",
      "4824/4824 [==============================] - 4s 739us/step - loss: nan - accuracy: 0.4664 0s - loss: nan - a - ETA: 0s - loss: nan - accuracy: 0.4\n",
      "Epoch 41/50\n",
      "4824/4824 [==============================] - 4s 749us/step - loss: nan - accuracy: 0.4664\n",
      "Epoch 42/50\n",
      "4824/4824 [==============================] - 4s 751us/step - loss: nan - accuracy: 0.4664 0s - loss: nan - a\n",
      "Epoch 43/50\n",
      "4824/4824 [==============================] - 4s 758us/step - loss: nan - accuracy: 0.4664 1s\n",
      "Epoch 44/50\n",
      "4824/4824 [==============================] - 4s 752us/step - loss: nan - accuracy: 0.4664 3s  - ETA\n",
      "Epoch 45/50\n",
      "4824/4824 [==============================] - 4s 772us/step - loss: nan - accuracy: 0.4664\n",
      "Epoch 46/50\n",
      "4824/4824 [==============================] - 4s 753us/step - loss: nan - accuracy: 0.4664\n",
      "Epoch 47/50\n",
      "4824/4824 [==============================] - 4s 766us/step - loss: nan - accuracy: 0.4664\n",
      "Epoch 48/50\n",
      "4824/4824 [==============================] - 4s 728us/step - loss: nan - accuracy: 0.4664\n",
      "Epoch 49/50\n",
      "4824/4824 [==============================] - 4s 728us/step - loss: nan - accuracy: 0.4664\n",
      "Epoch 50/50\n",
      "4824/4824 [==============================] - 4s 742us/step - loss: nan - accuracy: 0.4664\n"
     ]
    }
   ],
   "source": [
    "# Fit the model\n",
    "fit_model_A2 = nn_A2.fit(X_train_scaled, y_train, epochs=50)\n"
   ]
  },
  {
   "cell_type": "markdown",
   "metadata": {},
   "source": [
    "### Step 2: After finishing your models, display the accuracy scores achieved by each model, and compare the results."
   ]
  },
  {
   "cell_type": "code",
   "execution_count": 138,
   "metadata": {},
   "outputs": [
    {
     "name": "stdout",
     "output_type": "stream",
     "text": [
      "Original Model Results\n",
      "1608/1608 - 1s - loss: nan - mse: nan - 787ms/epoch - 490us/step\n",
      "Loss: nan, Accuracy: nan\n"
     ]
    }
   ],
   "source": [
    "print(\"Original Model Results\")\n",
    "\n",
    "# Evaluate the model loss and accuracy metrics using the evaluate method and the test data\n",
    "model_loss, model_accuracy = nn_1.evaluate(X_test_scaled, y_test, verbose=2) \n",
    "\n",
    "# Display the model loss and accuracy results\n",
    "print(f\"Loss: {model_loss}, Accuracy: {model_accuracy}\")"
   ]
  },
  {
   "cell_type": "code",
   "execution_count": 140,
   "metadata": {},
   "outputs": [
    {
     "name": "stdout",
     "output_type": "stream",
     "text": [
      "Alternative Model 1 Results\n",
      "1608/1608 - 1s - loss: nan - accuracy: 0.0000e+00 - 857ms/epoch - 533us/step\n",
      "Loss: nan, Accuracy: 0.0\n"
     ]
    }
   ],
   "source": [
    "print(\"Alternative Model 1 Results\")\n",
    "\n",
    "# Evaluate the model loss and accuracy metrics using the evaluate method and the test data\n",
    "model_loss, model_accuracy = nn_A1.evaluate(X_test_scaled, y_test, verbose=2) \n",
    "\n",
    "# Display the model loss and accuracy results\n",
    "print(f\"Loss: {model_loss}, Accuracy: {model_accuracy}\")"
   ]
  },
  {
   "cell_type": "code",
   "execution_count": 139,
   "metadata": {},
   "outputs": [
    {
     "name": "stdout",
     "output_type": "stream",
     "text": [
      "Alternative Model 2 Results\n",
      "1608/1608 - 1s - loss: nan - accuracy: 0.4712 - 832ms/epoch - 517us/step\n",
      "Loss: nan, Accuracy: 0.4711850583553314\n"
     ]
    }
   ],
   "source": [
    "print(\"Alternative Model 2 Results\")\n",
    "\n",
    "# Evaluate the model loss and accuracy metrics using the evaluate method and the test data\n",
    "model_loss, model_accuracy = nn_A2.evaluate(X_test_scaled, y_test, verbose=2) \n",
    "\n",
    "# Display the model loss and accuracy results\n",
    "print(f\"Loss: {model_loss}, Accuracy: {model_accuracy}\")"
   ]
  },
  {
   "cell_type": "markdown",
   "metadata": {},
   "source": [
    "### Step 3: Save each of your alternative models as an HDF5 file.\n"
   ]
  },
  {
   "cell_type": "code",
   "execution_count": 141,
   "metadata": {},
   "outputs": [],
   "source": [
    "# Set the file path for the first alternative model\n",
    "file_path = Path(\"Resources/AlphabetSoupV1.h5\")\n",
    "\n",
    "# Export your model to a HDF5 file\n",
    "nn_A1.save(file_path)\n"
   ]
  },
  {
   "cell_type": "code",
   "execution_count": 142,
   "metadata": {},
   "outputs": [],
   "source": [
    "# Set the file path for the second alternative model\n",
    "file_path = Path(\"Resources/AlphabetSoupV2.h5\")\n",
    "\n",
    "# Export your model to a HDF5 file\n",
    "nn_A2.save(file_path)\n"
   ]
  },
  {
   "cell_type": "code",
   "execution_count": null,
   "metadata": {},
   "outputs": [],
   "source": []
  }
 ],
 "metadata": {
  "kernelspec": {
   "display_name": "dev",
   "language": "python",
   "name": "dev"
  },
  "language_info": {
   "codemirror_mode": {
    "name": "ipython",
    "version": 3
   },
   "file_extension": ".py",
   "mimetype": "text/x-python",
   "name": "python",
   "nbconvert_exporter": "python",
   "pygments_lexer": "ipython3",
   "version": "3.7.10"
  }
 },
 "nbformat": 4,
 "nbformat_minor": 4
}
